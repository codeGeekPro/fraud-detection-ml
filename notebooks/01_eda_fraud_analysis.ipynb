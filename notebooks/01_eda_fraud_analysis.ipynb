{
 "cells": [
  {
   "cell_type": "markdown",
   "id": "2244e93b",
   "metadata": {},
   "source": [
    "# Phase 2 : Analyse exploratoire des données (EDA)\n",
    "\n",
    "Ce notebook présente le pipeline complet d'analyse exploratoire pour la détection de fraudes bancaires.\n",
    "\n",
    "**Objectifs :**\n",
    "- Charger les données de manière robuste (CSV/Parquet)\n",
    "- Explorer et valider la qualité des données\n",
    "- Réaliser au moins 15 visualisations interactives avec Plotly\n",
    "- Effectuer des tests statistiques pour valider les observations\n",
    "- Préparer les données pour la modélisation\n",
    "\n",
    "---"
   ]
  },
  {
   "cell_type": "markdown",
   "id": "69545f18",
   "metadata": {},
   "source": [
    "## 1. Importation des bibliothèques nécessaires\n",
    "\n",
    "Nous allons utiliser pandas, numpy, plotly, scipy, et le module data_loader.py pour charger et analyser les données."
   ]
  },
  {
   "cell_type": "code",
   "execution_count": 2,
   "id": "33e0ed43",
   "metadata": {},
   "outputs": [],
   "source": [
    "# Importation des librairies\n",
    "import pandas as pd\n",
    "import numpy as np\n",
    "import plotly.express as px\n",
    "import plotly.graph_objects as go\n",
    "import scipy.stats as stats\n",
    "\n",
    "import sys\n",
    "sys.path.append('../')  # or the relative path to your src folder\n",
    "from src.data.data_loader import DataLoader"
   ]
  },
  {
   "cell_type": "markdown",
   "id": "68fe6e79",
   "metadata": {},
   "source": [
    "## 2. Chargement des données avec data_loader.py\n",
    "\n",
    "Utilisation du module DataLoader pour charger les données bancaires au format CSV ou Parquet."
   ]
  },
  {
   "cell_type": "code",
   "execution_count": 3,
   "id": "0ff514a2",
   "metadata": {},
   "outputs": [
    {
     "name": "stderr",
     "output_type": "stream",
     "text": [
      "2025-09-09 16:08:57,761 - src.data.data_loader - ERROR - Fichier de configuration non trouvé: config/config.yaml\n"
     ]
    },
    {
     "ename": "FileNotFoundError",
     "evalue": "[Errno 2] No such file or directory: 'config/config.yaml'",
     "output_type": "error",
     "traceback": [
      "\u001b[31m---------------------------------------------------------------------------\u001b[39m",
      "\u001b[31mFileNotFoundError\u001b[39m                         Traceback (most recent call last)",
      "\u001b[36mCell\u001b[39m\u001b[36m \u001b[39m\u001b[32mIn[3]\u001b[39m\u001b[32m, line 2\u001b[39m\n\u001b[32m      1\u001b[39m \u001b[38;5;66;03m# Chargement des données\u001b[39;00m\n\u001b[32m----> \u001b[39m\u001b[32m2\u001b[39m loader = \u001b[43mDataLoader\u001b[49m\u001b[43m(\u001b[49m\u001b[33;43m'\u001b[39;49m\u001b[33;43mconfig/config.yaml\u001b[39;49m\u001b[33;43m'\u001b[39;49m\u001b[43m)\u001b[49m\n\u001b[32m      3\u001b[39m data = loader.load_data()\n\u001b[32m      4\u001b[39m \u001b[38;5;28mprint\u001b[39m(\u001b[33mf\u001b[39m\u001b[33m\"\u001b[39m\u001b[33mDimensions des données : \u001b[39m\u001b[38;5;132;01m{\u001b[39;00mdata.shape\u001b[38;5;132;01m}\u001b[39;00m\u001b[33m\"\u001b[39m)\n",
      "\u001b[36mFile \u001b[39m\u001b[32m/workspaces/fraud-detection-ml/notebooks/../src/data/data_loader.py:42\u001b[39m, in \u001b[36mDataLoader.__init__\u001b[39m\u001b[34m(self, config_path)\u001b[39m\n\u001b[32m     35\u001b[39m \u001b[38;5;250m\u001b[39m\u001b[33;03m\"\"\"\u001b[39;00m\n\u001b[32m     36\u001b[39m \u001b[33;03mInitialise le DataLoader avec la configuration spécifiée.\u001b[39;00m\n\u001b[32m     37\u001b[39m \n\u001b[32m     38\u001b[39m \u001b[33;03mArgs:\u001b[39;00m\n\u001b[32m     39\u001b[39m \u001b[33;03m    config_path (str): Chemin vers le fichier de configuration YAML\u001b[39;00m\n\u001b[32m     40\u001b[39m \u001b[33;03m\"\"\"\u001b[39;00m\n\u001b[32m     41\u001b[39m \u001b[38;5;28mself\u001b[39m.config_path = config_path\n\u001b[32m---> \u001b[39m\u001b[32m42\u001b[39m \u001b[38;5;28mself\u001b[39m.data_config = \u001b[38;5;28;43mself\u001b[39;49m\u001b[43m.\u001b[49m\u001b[43m_load_config\u001b[49m\u001b[43m(\u001b[49m\u001b[43m)\u001b[49m\n",
      "\u001b[36mFile \u001b[39m\u001b[32m/workspaces/fraud-detection-ml/notebooks/../src/data/data_loader.py:56\u001b[39m, in \u001b[36mDataLoader._load_config\u001b[39m\u001b[34m(self)\u001b[39m\n\u001b[32m     54\u001b[39m \u001b[38;5;28;01mif\u001b[39;00m \u001b[38;5;28mself\u001b[39m.config_path.endswith(\u001b[33m\"\u001b[39m\u001b[33m.yaml\u001b[39m\u001b[33m\"\u001b[39m) \u001b[38;5;129;01mor\u001b[39;00m \u001b[38;5;28mself\u001b[39m.config_path.endswith(\u001b[33m\"\u001b[39m\u001b[33m.yml\u001b[39m\u001b[33m\"\u001b[39m):\n\u001b[32m     55\u001b[39m     \u001b[38;5;28;01mtry\u001b[39;00m:\n\u001b[32m---> \u001b[39m\u001b[32m56\u001b[39m         \u001b[38;5;28;01mwith\u001b[39;00m \u001b[38;5;28;43mopen\u001b[39;49m\u001b[43m(\u001b[49m\u001b[38;5;28;43mself\u001b[39;49m\u001b[43m.\u001b[49m\u001b[43mconfig_path\u001b[49m\u001b[43m,\u001b[49m\u001b[43m \u001b[49m\u001b[33;43m\"\u001b[39;49m\u001b[33;43mr\u001b[39;49m\u001b[33;43m\"\u001b[39;49m\u001b[43m)\u001b[49m \u001b[38;5;28;01mas\u001b[39;00m file:\n\u001b[32m     57\u001b[39m             config = yaml.safe_load(file)\n\u001b[32m     58\u001b[39m             \u001b[38;5;28;01mreturn\u001b[39;00m config[\u001b[33m\"\u001b[39m\u001b[33mdata\u001b[39m\u001b[33m\"\u001b[39m]\n",
      "\u001b[31mFileNotFoundError\u001b[39m: [Errno 2] No such file or directory: 'config/config.yaml'"
     ]
    }
   ],
   "source": [
    "# Chargement des données\n",
    "loader = DataLoader('config/config.yaml')\n",
    "data = loader.load_data()\n",
    "print(f\"Dimensions des données : {data.shape}\")\n",
    "data.head()"
   ]
  },
  {
   "cell_type": "code",
   "execution_count": null,
   "id": "a8c89472",
   "metadata": {},
   "outputs": [],
   "source": [
    "## 3. Aperçu et validation des données\n",
    "\n",
    "Affichage des premières lignes, types de données, valeurs manquantes et statistiques descriptives."
   ]
  },
  {
   "cell_type": "markdown",
   "id": "513004a7",
   "metadata": {},
   "source": [
    "## 3. Analyse du Déséquilibre des Classes {#imbalance}"
   ]
  },
  {
   "cell_type": "code",
   "execution_count": null,
   "id": "4e9fa2db",
   "metadata": {},
   "outputs": [],
   "source": [
    "# Aperçu des données\n",
    "print(data.info())\n",
    "print(data.describe())\n",
    "print(\"Valeurs manquantes par colonne :\")\n",
    "print(data.isnull().sum())"
   ]
  },
  {
   "cell_type": "markdown",
   "id": "f2fec93f",
   "metadata": {},
   "source": [
    "## 4. Nettoyage et préparation des données\n",
    "\n",
    "Traitement des valeurs manquantes, des doublons et conversion des types si nécessaire."
   ]
  },
  {
   "cell_type": "code",
   "execution_count": null,
   "id": "c455b79a",
   "metadata": {},
   "outputs": [],
   "source": [
    "# Nettoyage des données\n",
    "# Suppression des doublons\n",
    "data = data.drop_duplicates()\n",
    "# Imputation simple des valeurs manquantes (si besoin)\n",
    "data = data.fillna(data.median(numeric_only=True))\n",
    "# Conversion des types si nécessaire\n",
    "for col in ['Time', 'Amount', 'Class']:\n",
    "    data[col] = pd.to_numeric(data[col], errors='coerce')\n",
    "print(\"Nettoyage terminé. Dimensions :\", data.shape)"
   ]
  },
  {
   "cell_type": "markdown",
   "id": "87d3c524",
   "metadata": {},
   "source": [
    "## 5. Visualisations exploratoires\n",
    "\n",
    "Création d'au moins 15 visualisations pour explorer les distributions et relations entre variables."
   ]
  },
  {
   "cell_type": "code",
   "execution_count": null,
   "id": "8d8999ba",
   "metadata": {},
   "outputs": [],
   "source": [
    "# Visualisation 1 : Histogramme du montant\n",
    "px.histogram(data, x='Amount', nbins=50, title='Distribution des montants')\n",
    "\n",
    "# Visualisation 2 : Histogramme du temps\n",
    "px.histogram(data, x='Time', nbins=50, title='Distribution du temps')\n",
    "\n",
    "# Visualisation 3 : Boxplot du montant par classe\n",
    "px.box(data, x='Class', y='Amount', title='Montant par classe (fraude/non-fraude)')\n",
    "\n",
    "# Visualisation 4 : Bar chart du nombre de transactions par classe\n",
    "px.bar(data['Class'].value_counts().reset_index(), x='index', y='Class', title='Répartition des classes')\n",
    "\n",
    "# Visualisation 5 : Pie chart de la proportion de fraudes\n",
    "px.pie(data, names='Class', title='Proportion de fraudes')"
   ]
  },
  {
   "cell_type": "markdown",
   "id": "acfedec8",
   "metadata": {},
   "source": [
    "### Visualisations complémentaires\n",
    "\n",
    "Exploration des relations entre variables et détection d'outliers."
   ]
  },
  {
   "cell_type": "code",
   "execution_count": null,
   "id": "e4944f32",
   "metadata": {},
   "outputs": [],
   "source": [
    "# Visualisation 6 : Scatter plot Amount vs Time\n",
    "px.scatter(data, x='Time', y='Amount', color='Class', title='Montant vs Temps selon la classe')\n",
    "\n",
    "# Visualisation 7 : Heatmap de corrélation\n",
    "import plotly.figure_factory as ff\n",
    "corr = data.corr()\n",
    "fig = ff.create_annotated_heatmap(z=corr.values, x=list(corr.columns), y=list(corr.index), colorscale='Viridis')\n",
    "fig.update_layout(title='Matrice de corrélation')\n",
    "fig.show()\n",
    "\n",
    "# Visualisation 8 : Violin plot du montant par classe\n",
    "px.violin(data, y='Amount', x='Class', box=True, points='all', title='Violin plot du montant par classe')\n",
    "\n",
    "# Visualisation 9 : KDE plot du montant\n",
    "import plotly.figure_factory as ff\n",
    "fig = ff.create_distplot([data[data['Class']==0]['Amount'], data[data['Class']==1]['Amount']], group_labels=['Non-Fraude', 'Fraude'], show_hist=False)\n",
    "fig.update_layout(title='KDE du montant par classe')\n",
    "fig.show()\n",
    "\n",
    "# Visualisation 10 : Outliers sur le montant\n",
    "q1 = data['Amount'].quantile(0.25)\n",
    "q3 = data['Amount'].quantile(0.75)\n",
    "iqr = q3 - q1\n",
    "outliers = data[(data['Amount'] < q1 - 1.5*iqr) | (data['Amount'] > q3 + 1.5*iqr)]\n",
    "px.scatter(outliers, x='Time', y='Amount', color='Class', title='Outliers sur le montant')"
   ]
  },
  {
   "cell_type": "markdown",
   "id": "b7056c10",
   "metadata": {},
   "source": [
    "### Visualisations avancées et analyse du déséquilibre\n",
    "\n",
    "Analyse des variables, déséquilibre des classes et exploration des patterns de fraude."
   ]
  },
  {
   "cell_type": "code",
   "execution_count": null,
   "id": "a269c9e7",
   "metadata": {},
   "outputs": [],
   "source": [
    "# Visualisation 11 : Montant moyen par heure\n",
    "if 'Time' in data.columns:\n",
    "    data['Hour'] = (data['Time'] // 3600).astype(int)\n",
    "    px.bar(data.groupby('Hour')['Amount'].mean().reset_index(), x='Hour', y='Amount', title='Montant moyen par heure')\n",
    "\n",
    "# Visualisation 12 : Nombre de transactions par jour (si colonne Date existe)\n",
    "if 'Date' in data.columns:\n",
    "    px.bar(data.groupby('Date').size().reset_index(name='Transactions'), x='Date', y='Transactions', title='Transactions par jour')\n",
    "\n",
    "# Visualisation 13 : Distribution d'une variable aléatoire\n",
    "col = data.columns[3] if len(data.columns) > 3 else 'Amount'\n",
    "px.histogram(data, x=col, nbins=50, title=f'Distribution de {col}')\n",
    "\n",
    "# Visualisation 14 : Boxplot par variable\n",
    "for col in ['Amount', 'Time']:\n",
    "    px.box(data, y=col, title=f'Boxplot de {col}')\n",
    "\n",
    "# Visualisation 15 : Heatmap des valeurs manquantes\n",
    "import seaborn as sns\n",
    "import matplotlib.pyplot as plt\n",
    "plt.figure(figsize=(10,6))\n",
    "sns.heatmap(data.isnull(), cbar=False)\n",
    "plt.title('Heatmap des valeurs manquantes')\n",
    "plt.show()"
   ]
  },
  {
   "cell_type": "markdown",
   "id": "c108412c",
   "metadata": {},
   "source": [
    "## 6. Tests statistiques sur les observations\n",
    "\n",
    "Réalisation de tests statistiques pour valider les observations issues de l'EDA."
   ]
  },
  {
   "cell_type": "code",
   "execution_count": null,
   "id": "050dcd16",
   "metadata": {},
   "outputs": [],
   "source": [
    "# Test de normalité (Shapiro-Wilk)\n",
    "from scipy.stats import shapiro\n",
    "stat, p = shapiro(data['Amount'])\n",
    "print(f\"Test de Shapiro-Wilk sur 'Amount': Stat={stat:.3f}, p-value={p:.3f}\")\n",
    "\n",
    "# Test de corrélation (Pearson)\n",
    "from scipy.stats import pearsonr\n",
    "corr, p_corr = pearsonr(data['Amount'], data['Time'])\n",
    "print(f\"Corrélation Pearson Amount/Time: r={corr:.3f}, p-value={p_corr:.3f}\")\n",
    "\n",
    "# Test de comparaison de moyennes (t-test)\n",
    "from scipy.stats import ttest_ind\n",
    "amount_fraud = data[data['Class']==1]['Amount']\n",
    "amount_nonfraud = data[data['Class']==0]['Amount']\n",
    "t_stat, t_p = ttest_ind(amount_fraud, amount_nonfraud, equal_var=False)\n",
    "print(f\"T-test Amount (Fraude vs Non-Fraude): Stat={t_stat:.3f}, p-value={t_p:.3f}\")\n",
    "\n",
    "# Test du chi2 sur la répartition des classes\n",
    "from scipy.stats import chi2_contingency\n",
    "table = pd.crosstab(data['Class'], data['Amount'] > data['Amount'].median())\n",
    "chi2, chi2_p, _, _ = chi2_contingency(table)\n",
    "print(f\"Test du chi2 sur la répartition des classes: Stat={chi2:.3f}, p-value={chi2_p:.3f}\")"
   ]
  },
  {
   "cell_type": "markdown",
   "id": "553a0cab",
   "metadata": {},
   "source": [
    "## 7. Visualisations interactives avec Plotly\n",
    "\n",
    "Certaines visualisations ci-dessus sont interactives grâce à Plotly. Utilisez les outils d'exploration pour zoomer, filtrer et analyser les patterns de fraude."
   ]
  }
 ],
 "metadata": {
  "kernelspec": {
   "display_name": ".venv",
   "language": "python",
   "name": "python3"
  },
  "language_info": {
   "codemirror_mode": {
    "name": "ipython",
    "version": 3
   },
   "file_extension": ".py",
   "mimetype": "text/x-python",
   "name": "python",
   "nbconvert_exporter": "python",
   "pygments_lexer": "ipython3",
   "version": "3.12.1"
  }
 },
 "nbformat": 4,
 "nbformat_minor": 5
}
