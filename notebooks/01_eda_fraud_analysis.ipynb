{
 "cells": [
  {
   "cell_type": "markdown",
   "id": "2244e93b",
   "metadata": {},
   "source": [
    "# Phase 2 : Analyse exploratoire des données (EDA)\n",
    "\n",
    "Ce notebook présente le pipeline complet d'analyse exploratoire pour la détection de fraudes bancaires.\n",
    "\n",
    "**Objectifs :**\n",
    "- Charger les données de manière robuste (CSV/Parquet)\n",
    "- Explorer et valider la qualité des données\n",
    "- Réaliser au moins 15 visualisations interactives avec Plotly\n",
    "- Effectuer des tests statistiques pour valider les observations\n",
    "- Préparer les données pour la modélisation\n",
    "\n",
    "---"
   ]
  },
  {
   "cell_type": "markdown",
   "id": "69545f18",
   "metadata": {},
   "source": [
    "## 1. Importation des bibliothèques nécessaires\n",
    "\n",
    "Nous allons utiliser pandas, numpy, plotly, scipy, et le module data_loader.py pour charger et analyser les données."
   ]
  },
  {
   "cell_type": "code",
   "execution_count": null,
   "id": "33e0ed43",
   "metadata": {},
   "outputs": [],
   "source": [
    "# Importation des librairies\n",
    "import pandas as pd\n",
    "import numpy as np\n",
    "import plotly.express as px\n",
    "import plotly.graph_objects as go\n",
    "import scipy.stats as stats\n",
    "from src.data.data_loader import DataLoader"
   ]
  },
  {
   "cell_type": "markdown",
   "id": "68fe6e79",
   "metadata": {},
   "source": [
    "## 2. Chargement des données avec data_loader.py\n",
    "\n",
    "Utilisation du module DataLoader pour charger les données bancaires au format CSV ou Parquet."
   ]
  },
  {
   "cell_type": "code",
   "execution_count": null,
   "id": "0ff514a2",
   "metadata": {},
   "outputs": [],
   "source": [
    "# Chargement des données\n",
    "loader = DataLoader('config/config.yaml')\n",
    "data = loader.load_data()\n",
    "print(f\"Dimensions des données : {data.shape}\")\n",
    "data.head()"
   ]
  },
  {
   "cell_type": "code",
   "execution_count": null,
   "id": "a8c89472",
   "metadata": {},
   "outputs": [],
   "source": [
    "## 3. Aperçu et validation des données\n",
    "\n",
    "Affichage des premières lignes, types de données, valeurs manquantes et statistiques descriptives."
   ]
  },
  {
   "cell_type": "markdown",
   "id": "513004a7",
   "metadata": {},
   "source": [
    "## 3. Analyse du Déséquilibre des Classes {#imbalance}"
   ]
  },
  {
   "cell_type": "code",
   "execution_count": null,
   "id": "4e9fa2db",
   "metadata": {},
   "outputs": [],
   "source": [
    "# Aperçu des données\n",
    "print(data.info())\n",
    "print(data.describe())\n",
    "print(\"Valeurs manquantes par colonne :\")\n",
    "print(data.isnull().sum())"
   ]
  },
  {
   "cell_type": "markdown",
   "id": "f2fec93f",
   "metadata": {},
   "source": [
    "## 4. Nettoyage et préparation des données\n",
    "\n",
    "Traitement des valeurs manquantes, des doublons et conversion des types si nécessaire."
   ]
  },
  {
   "cell_type": "code",
   "execution_count": null,
   "id": "c455b79a",
   "metadata": {},
   "outputs": [],
   "source": [
    "# Nettoyage des données\n",
    "# Suppression des doublons\n",
    "data = data.drop_duplicates()\n",
    "# Imputation simple des valeurs manquantes (si besoin)\n",
    "data = data.fillna(data.median(numeric_only=True))\n",
    "# Conversion des types si nécessaire\n",
    "for col in ['Time', 'Amount', 'Class']:\n",
    "    data[col] = pd.to_numeric(data[col], errors='coerce')\n",
    "print(\"Nettoyage terminé. Dimensions :\", data.shape)"
   ]
  },
  {
   "cell_type": "markdown",
   "id": "87d3c524",
   "metadata": {},
   "source": [
    "## 5. Visualisations exploratoires\n",
    "\n",
    "Création d'au moins 15 visualisations pour explorer les distributions et relations entre variables."
   ]
  },
  {
   "cell_type": "code",
   "execution_count": null,
   "id": "8d8999ba",
   "metadata": {},
   "outputs": [],
   "source": [
    "# Visualisation 1 : Histogramme du montant\n",
    "px.histogram(data, x='Amount', nbins=50, title='Distribution des montants')\n",
    "\n",
    "# Visualisation 2 : Histogramme du temps\n",
    "px.histogram(data, x='Time', nbins=50, title='Distribution du temps')\n",
    "\n",
    "# Visualisation 3 : Boxplot du montant par classe\n",
    "px.box(data, x='Class', y='Amount', title='Montant par classe (fraude/non-fraude)')\n",
    "\n",
    "# Visualisation 4 : Bar chart du nombre de transactions par classe\n",
    "px.bar(data['Class'].value_counts().reset_index(), x='index', y='Class', title='Répartition des classes')\n",
    "\n",
    "# Visualisation 5 : Pie chart de la proportion de fraudes\n",
    "px.pie(data, names='Class', title='Proportion de fraudes')"
   ]
  },
  {
   "cell_type": "markdown",
   "id": "acfedec8",
   "metadata": {},
   "source": [
    "### Visualisations complémentaires\n",
    "\n",
    "Exploration des relations entre variables et détection d'outliers."
   ]
  },
  {
   "cell_type": "code",
   "execution_count": null,
   "id": "e4944f32",
   "metadata": {},
   "outputs": [],
   "source": [
    "# Visualisation 6 : Scatter plot Amount vs Time\n",
    "px.scatter(data, x='Time', y='Amount', color='Class', title='Montant vs Temps selon la classe')\n",
    "\n",
    "# Visualisation 7 : Heatmap de corrélation\n",
    "import plotly.figure_factory as ff\n",
    "corr = data.corr()\n",
    "fig = ff.create_annotated_heatmap(z=corr.values, x=list(corr.columns), y=list(corr.index), colorscale='Viridis')\n",
    "fig.update_layout(title='Matrice de corrélation')\n",
    "fig.show()\n",
    "\n",
    "# Visualisation 8 : Violin plot du montant par classe\n",
    "px.violin(data, y='Amount', x='Class', box=True, points='all', title='Violin plot du montant par classe')\n",
    "\n",
    "# Visualisation 9 : KDE plot du montant\n",
    "import plotly.figure_factory as ff\n",
    "fig = ff.create_distplot([data[data['Class']==0]['Amount'], data[data['Class']==1]['Amount']], group_labels=['Non-Fraude', 'Fraude'], show_hist=False)\n",
    "fig.update_layout(title='KDE du montant par classe')\n",
    "fig.show()\n",
    "\n",
    "# Visualisation 10 : Outliers sur le montant\n",
    "q1 = data['Amount'].quantile(0.25)\n",
    "q3 = data['Amount'].quantile(0.75)\n",
    "iqr = q3 - q1\n",
    "outliers = data[(data['Amount'] < q1 - 1.5*iqr) | (data['Amount'] > q3 + 1.5*iqr)]\n",
    "px.scatter(outliers, x='Time', y='Amount', color='Class', title='Outliers sur le montant')"
   ]
  },
  {
   "cell_type": "markdown",
   "id": "b7056c10",
   "metadata": {},
   "source": [
    "### Visualisations avancées et analyse du déséquilibre\n",
    "\n",
    "Analyse des variables, déséquilibre des classes et exploration des patterns de fraude."
   ]
  },
  {
   "cell_type": "code",
   "execution_count": null,
   "id": "a269c9e7",
   "metadata": {},
   "outputs": [],
   "source": [
    "# Visualisation 11 : Montant moyen par heure\n",
    "if 'Time' in data.columns:\n",
    "    data['Hour'] = (data['Time'] // 3600).astype(int)\n",
    "    px.bar(data.groupby('Hour')['Amount'].mean().reset_index(), x='Hour', y='Amount', title='Montant moyen par heure')\n",
    "\n",
    "# Visualisation 12 : Nombre de transactions par jour (si colonne Date existe)\n",
    "if 'Date' in data.columns:\n",
    "    px.bar(data.groupby('Date').size().reset_index(name='Transactions'), x='Date', y='Transactions', title='Transactions par jour')\n",
    "\n",
    "# Visualisation 13 : Distribution d'une variable aléatoire\n",
    "col = data.columns[3] if len(data.columns) > 3 else 'Amount'\n",
    "px.histogram(data, x=col, nbins=50, title=f'Distribution de {col}')\n",
    "\n",
    "# Visualisation 14 : Boxplot par variable\n",
    "for col in ['Amount', 'Time']:\n",
    "    px.box(data, y=col, title=f'Boxplot de {col}')\n",
    "\n",
    "# Visualisation 15 : Heatmap des valeurs manquantes\n",
    "import seaborn as sns\n",
    "import matplotlib.pyplot as plt\n",
    "plt.figure(figsize=(10,6))\n",
    "sns.heatmap(data.isnull(), cbar=False)\n",
    "plt.title('Heatmap des valeurs manquantes')\n",
    "plt.show()"
   ]
  },
  {
   "cell_type": "markdown",
   "id": "c108412c",
   "metadata": {},
   "source": [
    "## 6. Tests statistiques sur les observations\n",
    "\n",
    "Réalisation de tests statistiques pour valider les observations issues de l'EDA."
   ]
  },
  {
   "cell_type": "code",
   "execution_count": null,
   "id": "050dcd16",
   "metadata": {},
   "outputs": [],
   "source": [
    "# Test de normalité (Shapiro-Wilk)\n",
    "from scipy.stats import shapiro\n",
    "stat, p = shapiro(data['Amount'])\n",
    "print(f\"Test de Shapiro-Wilk sur 'Amount': Stat={stat:.3f}, p-value={p:.3f}\")\n",
    "\n",
    "# Test de corrélation (Pearson)\n",
    "from scipy.stats import pearsonr\n",
    "corr, p_corr = pearsonr(data['Amount'], data['Time'])\n",
    "print(f\"Corrélation Pearson Amount/Time: r={corr:.3f}, p-value={p_corr:.3f}\")\n",
    "\n",
    "# Test de comparaison de moyennes (t-test)\n",
    "from scipy.stats import ttest_ind\n",
    "amount_fraud = data[data['Class']==1]['Amount']\n",
    "amount_nonfraud = data[data['Class']==0]['Amount']\n",
    "t_stat, t_p = ttest_ind(amount_fraud, amount_nonfraud, equal_var=False)\n",
    "print(f\"T-test Amount (Fraude vs Non-Fraude): Stat={t_stat:.3f}, p-value={t_p:.3f}\")\n",
    "\n",
    "# Test du chi2 sur la répartition des classes\n",
    "from scipy.stats import chi2_contingency\n",
    "table = pd.crosstab(data['Class'], data['Amount'] > data['Amount'].median())\n",
    "chi2, chi2_p, _, _ = chi2_contingency(table)\n",
    "print(f\"Test du chi2 sur la répartition des classes: Stat={chi2:.3f}, p-value={chi2_p:.3f}\")"
   ]
  },
  {
   "cell_type": "markdown",
   "id": "553a0cab",
   "metadata": {},
   "source": [
    "## 7. Visualisations interactives avec Plotly\n",
    "\n",
    "Certaines visualisations ci-dessus sont interactives grâce à Plotly. Utilisez les outils d'exploration pour zoomer, filtrer et analyser les patterns de fraude."
   ]
  }
 ],
 "metadata": {
  "language_info": {
   "name": "python"
  }
 },
 "nbformat": 4,
 "nbformat_minor": 5
}
