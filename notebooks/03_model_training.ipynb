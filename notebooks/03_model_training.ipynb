{
 "cells": [
  {
   "cell_type": "markdown",
   "id": "d8d9c78e",
   "metadata": {},
   "source": [
    "# Entraînement des Modèles de Détection de Fraudes\n",
    "\n",
    "Ce notebook implémente l'entraînement des modèles Random Forest et XGBoost."
   ]
  },
  {
   "cell_type": "code",
   "execution_count": null,
   "id": "e985af0d",
   "metadata": {},
   "outputs": [],
   "source": [
    "# Imports à venir\n",
    "print(\"En cours de développement\")"
   ]
  },
  {
   "cell_type": "code",
   "execution_count": null,
   "id": "a2fb290b",
   "metadata": {},
   "outputs": [],
   "source": []
  }
 ],
 "metadata": {
  "kernelspec": {
   "display_name": ".venv",
   "language": "python",
   "name": "python3"
  },
  "language_info": {
   "codemirror_mode": {
    "name": "ipython",
    "version": 3
   },
   "file_extension": ".py",
   "mimetype": "text/x-python",
   "name": "python",
   "nbconvert_exporter": "python",
   "pygments_lexer": "ipython3",
   "version": "3.12.1"
  }
 },
 "nbformat": 4,
 "nbformat_minor": 5
}
