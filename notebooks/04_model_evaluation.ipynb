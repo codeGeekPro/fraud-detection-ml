{
 "cells": [
  {
   "cell_type": "markdown",
   "id": "c2da51aa",
   "metadata": {},
   "source": [
    "# Évaluation des Modèles de Détection de Fraudes\n",
    "\n",
    "Ce notebook compare et évalue les performances des différents modèles."
   ]
  },
  {
   "cell_type": "code",
   "execution_count": null,
   "id": "59e82788",
   "metadata": {},
   "outputs": [],
   "source": [
    "# Imports à venir\n",
    "print(\"En cours de développement\")"
   ]
  }
 ],
 "metadata": {
  "language_info": {
   "name": "python"
  }
 },
 "nbformat": 4,
 "nbformat_minor": 5
}
